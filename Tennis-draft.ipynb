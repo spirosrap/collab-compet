{
 "cells": [
  {
   "cell_type": "code",
   "execution_count": 1,
   "metadata": {},
   "outputs": [
    {
     "name": "stderr",
     "output_type": "stream",
     "text": [
      "INFO:unityagents:\n",
      "'Academy' started successfully!\n",
      "Unity Academy name: Academy\n",
      "        Number of Brains: 1\n",
      "        Number of External Brains : 1\n",
      "        Lesson number : 0\n",
      "        Reset Parameters :\n",
      "\t\t\n",
      "Unity brain name: TennisBrain\n",
      "        Number of Visual Observations (per agent): 0\n",
      "        Vector Observation space type: continuous\n",
      "        Vector Observation space size (per agent): 8\n",
      "        Number of stacked Vector Observation: 3\n",
      "        Vector Action space type: continuous\n",
      "        Vector Action space size (per agent): 2\n",
      "        Vector Action descriptions: , \n"
     ]
    },
    {
     "name": "stdout",
     "output_type": "stream",
     "text": [
      "Number of agents: 2\n",
      "Size of each action: 2\n",
      "There are 2 agents. Each observes a state with length: 24\n",
      "The state for the first agent looks like: [ 0.          0.          0.          0.          0.          0.\n",
      "  0.          0.          0.          0.          0.          0.\n",
      "  0.          0.          0.          0.         -6.65278625 -1.5\n",
      " -0.          0.          6.83172083  6.         -0.          0.        ]\n"
     ]
    }
   ],
   "source": [
    "from unityagents import UnityEnvironment\n",
    "import numpy as np\n",
    "\n",
    "env = UnityEnvironment(file_name=\"Tennis_Linux_NoVis/Tennis.x86_64\")\n",
    "\n",
    "# get the default brain\n",
    "brain_name = env.brain_names[0]\n",
    "brain = env.brains[brain_name]\n",
    "# reset the environment\n",
    "env_info = env.reset(train_mode=True)[brain_name]\n",
    "# number of agents \n",
    "num_agents = len(env_info.agents)\n",
    "print('Number of agents:', num_agents)\n",
    "# size of each action\n",
    "# actions between -1 and 1\n",
    "action_size = brain.vector_action_space_size\n",
    "print('Size of each action:', action_size)\n",
    "# examine the state space \n",
    "states = env_info.vector_observations\n",
    "state_size = states.shape[1]\n",
    "print('There are {} agents. Each observes a state with length: {}'.format(states.shape[0], state_size))\n",
    "print('The state for the first agent looks like:', states[0])"
   ]
  },
  {
   "cell_type": "code",
   "execution_count": 2,
   "metadata": {},
   "outputs": [
    {
     "name": "stderr",
     "output_type": "stream",
     "text": [
      "episode: 2/3000   0% ETA:   0:03:09 |-                                       | "
     ]
    },
    {
     "name": "stdout",
     "output_type": "stream",
     "text": [
      "mean_episode_rewards 0.0000 episode 0\n"
     ]
    },
    {
     "name": "stderr",
     "output_type": "stream",
     "text": [
      "episode: 101/3000   3% ETA:   0:07:40 |-                                     | "
     ]
    },
    {
     "name": "stdout",
     "output_type": "stream",
     "text": [
      "mean_episode_rewards 0.0018 episode 100\n"
     ]
    },
    {
     "name": "stderr",
     "output_type": "stream",
     "text": [
      "episode: 201/3000   6% ETA:   0:08:11 |/                                     | "
     ]
    },
    {
     "name": "stdout",
     "output_type": "stream",
     "text": [
      "mean_episode_rewards 0.0100 episode 200\n"
     ]
    },
    {
     "name": "stderr",
     "output_type": "stream",
     "text": [
      "episode: 301/3000  10% ETA:   0:08:02 |\\                                     | "
     ]
    },
    {
     "name": "stdout",
     "output_type": "stream",
     "text": [
      "mean_episode_rewards 0.0070 episode 300\n"
     ]
    },
    {
     "name": "stderr",
     "output_type": "stream",
     "text": [
      "episode: 402/3000  13% ETA:   0:08:08 |\\                                     | "
     ]
    },
    {
     "name": "stdout",
     "output_type": "stream",
     "text": [
      "mean_episode_rewards 0.0200 episode 400\n"
     ]
    },
    {
     "name": "stderr",
     "output_type": "stream",
     "text": [
      "episode: 501/3000  16% ETA:   0:08:09 |-                                     | "
     ]
    },
    {
     "name": "stdout",
     "output_type": "stream",
     "text": [
      "mean_episode_rewards 0.0290 episode 500\n"
     ]
    },
    {
     "name": "stderr",
     "output_type": "stream",
     "text": [
      "episode: 601/3000  20% ETA:   0:08:13 |-                                     | "
     ]
    },
    {
     "name": "stdout",
     "output_type": "stream",
     "text": [
      "mean_episode_rewards 0.0398 episode 600\n"
     ]
    },
    {
     "name": "stderr",
     "output_type": "stream",
     "text": [
      "episode: 701/3000  23% ETA:   0:08:11 |-                                     | "
     ]
    },
    {
     "name": "stdout",
     "output_type": "stream",
     "text": [
      "mean_episode_rewards 0.0487 episode 700\n"
     ]
    },
    {
     "name": "stderr",
     "output_type": "stream",
     "text": [
      "episode: 801/3000  26% ETA:   0:08:23 ||                                     | "
     ]
    },
    {
     "name": "stdout",
     "output_type": "stream",
     "text": [
      "mean_episode_rewards 0.0746 episode 800\n"
     ]
    },
    {
     "name": "stderr",
     "output_type": "stream",
     "text": [
      "episode: 901/3000  30% ETA:   0:08:35 |/                                     | "
     ]
    },
    {
     "name": "stdout",
     "output_type": "stream",
     "text": [
      "mean_episode_rewards 0.0755 episode 900\n"
     ]
    },
    {
     "name": "stderr",
     "output_type": "stream",
     "text": [
      "episode: 1002/3000  33% ETA:   0:08:41 |-                                    | "
     ]
    },
    {
     "name": "stdout",
     "output_type": "stream",
     "text": [
      "mean_episode_rewards 0.0886 episode 1000\n"
     ]
    },
    {
     "name": "stderr",
     "output_type": "stream",
     "text": [
      "episode: 1101/3000  36% ETA:   0:09:01 |-                                    | "
     ]
    },
    {
     "name": "stdout",
     "output_type": "stream",
     "text": [
      "mean_episode_rewards 0.1083 episode 1100\n"
     ]
    },
    {
     "name": "stderr",
     "output_type": "stream",
     "text": [
      "episode: 1201/3000  40% ETA:   0:09:10 ||                                    | "
     ]
    },
    {
     "name": "stdout",
     "output_type": "stream",
     "text": [
      "mean_episode_rewards 0.1121 episode 1200\n"
     ]
    },
    {
     "name": "stderr",
     "output_type": "stream",
     "text": [
      "episode: 1301/3000  43% ETA:   0:10:22 |\\                                    | "
     ]
    },
    {
     "name": "stdout",
     "output_type": "stream",
     "text": [
      "mean_episode_rewards 0.2465 episode 1300\n"
     ]
    },
    {
     "name": "stderr",
     "output_type": "stream",
     "text": [
      "episode: 1401/3000  46% ETA:   0:14:24 |-                                    | "
     ]
    },
    {
     "name": "stdout",
     "output_type": "stream",
     "text": [
      "mean_episode_rewards 0.6683 episode 1400\n"
     ]
    },
    {
     "name": "stderr",
     "output_type": "stream",
     "text": [
      "episode: 1502/3000  50% ETA:   0:17:55 |/                                    | "
     ]
    },
    {
     "name": "stdout",
     "output_type": "stream",
     "text": [
      "mean_episode_rewards 0.8167 episode 1500\n"
     ]
    },
    {
     "name": "stderr",
     "output_type": "stream",
     "text": [
      "episode: 1601/3000  53% ETA:   0:20:15 ||                                    | "
     ]
    },
    {
     "name": "stdout",
     "output_type": "stream",
     "text": [
      "mean_episode_rewards 0.5993 episode 1600\n"
     ]
    },
    {
     "name": "stderr",
     "output_type": "stream",
     "text": [
      "episode: 1701/3000  56% ETA:   0:22:00 |-                                    | "
     ]
    },
    {
     "name": "stdout",
     "output_type": "stream",
     "text": [
      "mean_episode_rewards 0.9566 episode 1700\n"
     ]
    },
    {
     "name": "stderr",
     "output_type": "stream",
     "text": [
      "episode: 1801/3000  60% ETA:   0:22:53 ||                                    | "
     ]
    },
    {
     "name": "stdout",
     "output_type": "stream",
     "text": [
      "mean_episode_rewards 0.7954 episode 1800\n"
     ]
    },
    {
     "name": "stderr",
     "output_type": "stream",
     "text": [
      "episode: 1901/3000  63% ETA:   0:23:46 ||                                    | "
     ]
    },
    {
     "name": "stdout",
     "output_type": "stream",
     "text": [
      "mean_episode_rewards 0.8608 episode 1900\n"
     ]
    },
    {
     "name": "stderr",
     "output_type": "stream",
     "text": [
      "episode: 2001/3000  66% ETA:   0:22:32 |\\                                    | "
     ]
    },
    {
     "name": "stdout",
     "output_type": "stream",
     "text": [
      "mean_episode_rewards 0.5339 episode 2000\n"
     ]
    },
    {
     "name": "stderr",
     "output_type": "stream",
     "text": [
      "episode: 2101/3000  70% ETA:   0:22:24 |/                                    | "
     ]
    },
    {
     "name": "stdout",
     "output_type": "stream",
     "text": [
      "mean_episode_rewards 0.9288 episode 2100\n"
     ]
    },
    {
     "name": "stderr",
     "output_type": "stream",
     "text": [
      "episode: 2201/3000  73% ETA:   0:21:37 ||                                    | "
     ]
    },
    {
     "name": "stdout",
     "output_type": "stream",
     "text": [
      "mean_episode_rewards 0.9444 episode 2200\n"
     ]
    },
    {
     "name": "stderr",
     "output_type": "stream",
     "text": [
      "episode: 2301/3000  76% ETA:   0:19:37 |-                                    | "
     ]
    },
    {
     "name": "stdout",
     "output_type": "stream",
     "text": [
      "mean_episode_rewards 0.7498 episode 2300\n"
     ]
    },
    {
     "name": "stderr",
     "output_type": "stream",
     "text": [
      "episode: 2401/3000  80% ETA:   0:17:16 |/                                    | "
     ]
    },
    {
     "name": "stdout",
     "output_type": "stream",
     "text": [
      "mean_episode_rewards 0.6455 episode 2400\n"
     ]
    },
    {
     "name": "stderr",
     "output_type": "stream",
     "text": [
      "episode: 2501/3000  83% ETA:   0:14:56 ||                                    | "
     ]
    },
    {
     "name": "stdout",
     "output_type": "stream",
     "text": [
      "mean_episode_rewards 0.6324 episode 2500\n"
     ]
    },
    {
     "name": "stderr",
     "output_type": "stream",
     "text": [
      "episode: 2601/3000  86% ETA:   0:12:55 |-                                    | "
     ]
    },
    {
     "name": "stdout",
     "output_type": "stream",
     "text": [
      "mean_episode_rewards 1.1724 episode 2600\n"
     ]
    },
    {
     "name": "stderr",
     "output_type": "stream",
     "text": [
      "episode: 2701/3000  90% ETA:   0:10:45 |/                                    | "
     ]
    },
    {
     "name": "stdout",
     "output_type": "stream",
     "text": [
      "mean_episode_rewards 1.3922 episode 2700\n"
     ]
    },
    {
     "name": "stderr",
     "output_type": "stream",
     "text": [
      "episode: 2801/3000  93% ETA:   0:07:36 |\\                                    | "
     ]
    },
    {
     "name": "stdout",
     "output_type": "stream",
     "text": [
      "mean_episode_rewards 1.0968 episode 2800\n"
     ]
    },
    {
     "name": "stderr",
     "output_type": "stream",
     "text": [
      "episode: 2901/3000  96% ETA:   0:03:59 |\\                                    | "
     ]
    },
    {
     "name": "stdout",
     "output_type": "stream",
     "text": [
      "mean_episode_rewards 1.0856 episode 2900\n"
     ]
    },
    {
     "name": "stderr",
     "output_type": "stream",
     "text": [
      "episode: 3000/3000 100% Time:  2:04:36 ||                                    | \n"
     ]
    }
   ],
   "source": [
    "# main function that sets up environments\n",
    "# perform training loop\n",
    "\n",
    "from buffer import ReplayBuffer\n",
    "from maddpg import MADDPG\n",
    "import torch\n",
    "import numpy as np\n",
    "from tensorboardX import SummaryWriter\n",
    "import os\n",
    "from utilities import transpose_list, transpose_to_tensor\n",
    "from collections import deque\n",
    "\n",
    "device = torch.device(\"cuda\" if torch.cuda.is_available() else \"cpu\")\n",
    "\n",
    "# for saving gif\n",
    "import imageio\n",
    "\n",
    "def seeding(seed=1):\n",
    "    np.random.seed(seed)\n",
    "    torch.manual_seed(seed)\n",
    "\n",
    "def pre_process(entity, batchsize):\n",
    "    processed_entity = []\n",
    "    for j in range(3):\n",
    "        list = []\n",
    "        for i in range(batchsize):\n",
    "            b = entity[i][j]\n",
    "            list.append(b)\n",
    "        c = torch.Tensor(list)\n",
    "        processed_entity.append(c)\n",
    "    return processed_entity\n",
    "\n",
    "\n",
    "seeding()\n",
    "\n",
    "# number of parallel agents\n",
    "# parallel_envs = 4\n",
    "\n",
    "# number of training episodes.\n",
    "# change this to higher number to experiment. say 30000.\n",
    "number_of_episodes = 3000\n",
    "episode_length = 1000\n",
    "batchsize = 128\n",
    "# how many episodes to save policy and gif\n",
    "save_interval = 1000\n",
    "t = 0\n",
    "\n",
    "scores_deque = deque(maxlen=100)\n",
    "scores = []\n",
    "\n",
    "# amplitude of OU noise\n",
    "# this slowly decreases to 0\n",
    "noise = 2\n",
    "noise_reduction = 0.9999\n",
    "\n",
    "# how many episodes before update\n",
    "episode_per_update = 2\n",
    "\n",
    "log_path = os.getcwd()+\"/log\"\n",
    "model_dir= os.getcwd()+\"/model_dir\"\n",
    "\n",
    "os.makedirs(model_dir, exist_ok=True)\n",
    "\n",
    "# torch.set_num_threads(parallel_envs)\n",
    "# env = envs.make_parallel_env(parallel_envs)\n",
    "\n",
    "# keep 5000 episodes worth of replay\n",
    "buffer = ReplayBuffer(500000,batchsize,0)\n",
    "\n",
    "# initialize policy and critic\n",
    "maddpg = MADDPG(seed=100)\n",
    "logger = SummaryWriter(log_dir=log_path)\n",
    "agent0_reward = []\n",
    "agent1_reward = []\n",
    "\n",
    "# training loop\n",
    "# show progressbar\n",
    "import progressbar as pb\n",
    "widget = ['episode: ', pb.Counter(),'/',str(number_of_episodes),' ', \n",
    "          pb.Percentage(), ' ', pb.ETA(), ' ', pb.Bar(marker=pb.RotatingMarker()), ' ' ]\n",
    "\n",
    "timer = pb.ProgressBar(widgets=widget, maxval=number_of_episodes).start()\n",
    "\n",
    "best_score = 0\n",
    "max_score = 0\n",
    "\n",
    "# use keep_awake to keep workspace from disconnecting\n",
    "for episode in range(0, number_of_episodes):\n",
    "\n",
    "    timer.update(episode)\n",
    "\n",
    "    for agent in maddpg.maddpg_agent:\n",
    "        agent.noise.reset()\n",
    "\n",
    "    reward_this_episode = np.zeros(2)\n",
    "    env_info = env.reset(train_mode=True)[brain_name]  # reset the environment\n",
    "    state = env_info.vector_observations # get the current state (for each agent)\n",
    "\n",
    "    #for calculating rewards for this particular episode - addition of all time steps\n",
    "\n",
    "    # save info or not\n",
    "    save_info = ((episode % save_interval) < episode==number_of_episodes)\n",
    "    frames = []\n",
    "    tmax = 0\n",
    "\n",
    "#     if save_info:\n",
    "#         frames.append(env.render('rgb_array'))\n",
    "\n",
    "    r0 = 0\n",
    "    r1 = 0\n",
    "    for episode_t in range(episode_length):\n",
    "\n",
    "        t += 1\n",
    "\n",
    "\n",
    "        # explore = only explore for a certain number of episodes\n",
    "        # action input needs to be transposed\n",
    "        actions = maddpg.act(torch.tensor(state,dtype=torch.float).to(device), noise=noise)\n",
    "        noise *= noise_reduction\n",
    "\n",
    "        action = torch.stack(actions).detach().numpy()\n",
    "\n",
    "        # step forward one frame\n",
    "        # next_obs, next_obs_full, rewards, dones, info = env.step(actions_for_env)\n",
    "        env_info = env.step(action)[brain_name]\n",
    "        next_state = env_info.vector_observations\n",
    "        reward = env_info.rewards\n",
    "        done = env_info.local_done\n",
    "        \n",
    "        cat_state = np.concatenate((state[0],state[1]))\n",
    "        cat_next_state = np.concatenate((next_state[0],next_state[1]))\n",
    "        \n",
    "        # add data to buffer\n",
    "        #transition = (obs, obs_full, actions_for_env, rewards, next_obs, next_obs_full, dones)\n",
    "        transition = (state, cat_state, action, reward, next_state, cat_next_state, done)\n",
    "        \n",
    "        buffer.add(*transition)\n",
    "\n",
    "        r0 += reward[0]\n",
    "        r1 += reward[1]\n",
    "        state = next_state\n",
    "        \n",
    "        # save gif frame\n",
    "        if episode % 100 == 0 :\n",
    "#             frames.append(env.render('rgb_array'))\n",
    "            tmax+=1\n",
    "        #if any of the agents are done break   \n",
    "        if len(buffer) > batchsize and episode % episode_per_update == 0:\n",
    "            for a_i in range(2):\n",
    "                samples = buffer.sample()\n",
    "                maddpg.update(samples, a_i, logger)\n",
    "            maddpg.update_targets() #soft update the target network towards the actual networks\n",
    "        \n",
    "        if np.any(done):            \n",
    "            break            \n",
    "    # update once after every episode_per_update\n",
    "\n",
    "    agent0_reward.append(r0)\n",
    "    agent1_reward.append(r1)\n",
    "    r = max(r0,r1)\n",
    "    \n",
    "    scores.append(r)\n",
    "    scores_deque.append(r)\n",
    "    \n",
    "    if episode % 100 == 0:\n",
    "        avg_rewards = [np.mean(agent0_reward), np.mean(agent1_reward)]\n",
    "        agent0_reward = []\n",
    "        agent1_reward = []\n",
    "        for a_i, avg_rew in enumerate(avg_rewards):\n",
    "            logger.add_scalar('agent%i/mean_episode_rewards' % a_i, avg_rewards[a_i], episode)\n",
    "#             print(\"agent %d /mean_episode_rewards %2f episode %d\",a_i,avg_rewards[a_i],episode)\n",
    "        print(\"mean_episode_rewards {:.4f} episode {}\".format(np.mean(scores_deque),episode))            \n",
    "\n",
    "        #saving model\n",
    "        save_dict_list =[]\n",
    "        if best_score < np.mean(scores_deque):\n",
    "            for i in range(2):\n",
    "\n",
    "                save_dict = {'actor_params' : maddpg.maddpg_agent[i].actor.state_dict(),\n",
    "                             'actor_optim_params': maddpg.maddpg_agent[i].actor_optimizer.state_dict(),\n",
    "                             'critic_params' : maddpg.maddpg_agent[i].critic.state_dict(),\n",
    "                             'critic_optim_params' : maddpg.maddpg_agent[i].critic_optimizer.state_dict()}\n",
    "                save_dict_list.append(save_dict)\n",
    "\n",
    "                torch.save(save_dict_list, \n",
    "                           os.path.join(model_dir, 'episode-{}.pt'.format(episode)))\n",
    "\n",
    "#             # save gif files\n",
    "#             imageio.mimsave(os.path.join(model_dir, 'episode-{}.gif'.format(episode)), \n",
    "#                             frames, duration=.04)\n",
    "            best_score = np.mean(scores_deque)\n",
    "\n",
    "env.close()\n",
    "logger.close()\n",
    "timer.finish()"
   ]
  },
  {
   "cell_type": "code",
   "execution_count": 3,
   "metadata": {},
   "outputs": [
    {
     "data": {
      "image/png": "[encoded data removed]",
      "text/plain": [
       "<Figure size 432x288 with 1 Axes>"
      ]
     },
     "metadata": {
      "needs_background": "light"
     },
     "output_type": "display_data"
    }
   ],
   "source": [
    "import matplotlib.pyplot as plt\n",
    "%matplotlib inline\n",
    "\n",
    "fig = plt.figure()\n",
    "ax = fig.add_subplot(111)\n",
    "plt.plot(np.arange(1, len(scores)+1), scores)\n",
    "plt.ylabel('Score')\n",
    "plt.xlabel('Episode #')\n",
    "plt.show()"
   ]
  },
  {
   "cell_type": "code",
   "execution_count": null,
   "metadata": {},
   "outputs": [],
   "source": []
  }
 ],
 "metadata": {
  "kernelspec": {
   "display_name": "Python 3",
   "language": "python",
   "name": "python3"
  },
  "language_info": {
   "codemirror_mode": {
    "name": "ipython",
    "version": 3
   },
   "file_extension": ".py",
   "mimetype": "text/x-python",
   "name": "python",
   "nbconvert_exporter": "python",
   "pygments_lexer": "ipython3",
   "version": "3.6.8"
  }
 },
 "nbformat": 4,
 "nbformat_minor": 2
}
